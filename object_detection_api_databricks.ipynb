{
  "cells": [
    {
      "cell_type": "markdown",
      "metadata": {},
      "source": [
        "# Prep data"
      ]
    },
    {
      "cell_type": "code",
      "execution_count": null,
      "metadata": {},
      "outputs": [],
      "source": [
        "%sh git clone http://github.com/tensorflow/models.git"
      ]
    },
    {
      "cell_type": "code",
      "execution_count": null,
      "metadata": {},
      "outputs": [],
      "source": [
        "cd models/research/"
      ]
    },
    {
      "cell_type": "code",
      "execution_count": null,
      "metadata": {},
      "outputs": [],
      "source": [
        "%sh apt-get -y install protobuf-compiler"
      ]
    },
    {
      "cell_type": "code",
      "execution_count": null,
      "metadata": {},
      "outputs": [],
      "source": [
        "%sh protoc object_detection/protos/*.proto --python_out=."
      ]
    },
    {
      "cell_type": "code",
      "execution_count": null,
      "metadata": {},
      "outputs": [],
      "source": [
        "cp object_detection/packages/tf2/setup.py ."
      ]
    },
    {
      "cell_type": "code",
      "execution_count": null,
      "metadata": {},
      "outputs": [],
      "source": [
        "pip install ."
      ]
    },
    {
      "cell_type": "code",
      "execution_count": null,
      "metadata": {},
      "outputs": [],
      "source": [
        "cd /databricks/driver"
      ]
    },
    {
      "cell_type": "code",
      "execution_count": null,
      "metadata": {},
      "outputs": [],
      "source": [
        "%sh\n",
        "set -x\n",
        "mkdir -p pet_data\n",
        "cd pet_data\n",
        "wget http://www.robots.ox.ac.uk/~vgg/data/pets/data/images.tar.gz\n",
        "wget http://www.robots.ox.ac.uk/~vgg/data/pets/data/annotations.tar.gz\n",
        "tar -xf images.tar.gz\n",
        "tar -xf annotations.tar.gz\n",
        "ls pet_data"
      ]
    },
    {
      "cell_type": "code",
      "execution_count": null,
      "metadata": {},
      "outputs": [],
      "source": [
        "%sh\n",
        "# Note: It is normal to see some warnings when running this script. You may ignore them.\n",
        "cd /databricks/driver/models/research\n",
        "mkdir -p /dbfs/mnt/ext-infy-engagement/Data/object_detection/resnet/data\n",
        "python object_detection/dataset_tools/create_pet_tf_record.py \\\n",
        "    --label_map_path=object_detection/data/pet_label_map.pbtxt \\\n",
        "    --data_dir=/databricks/driver/pet_data \\\n",
        "    --output_dir=/dbfs/mnt/ext-infy-engagement/Data/object_detection/resnet/data/\n",
        "#--output_dir=/databricks/driver/object_detection/resnet/data"
      ]
    },
    {
      "cell_type": "code",
      "execution_count": null,
      "metadata": {},
      "outputs": [],
      "source": [
        "%sh \n",
        "mkdir -p /databricks/driver/object_detection/resnet/data\n",
        "cp -r /dbfs/mnt/ext-infy-engagement/Data/object_detection/resnet/data/* /databricks/driver/object_detection/resnet/data\n",
        "cp object_detection/data/pet_label_map.pbtxt /databricks/driver/object_detection/resnet/data/label_map.txt"
      ]
    },
    {
      "cell_type": "code",
      "execution_count": null,
      "metadata": {},
      "outputs": [],
      "source": [
        "%sh\n",
        "mkdir -p /databricks/driver/object_detection/resnet/test/\n",
        "mv /databricks/driver/object_detection/resnet/data/pet_faces* /databricks/driver/object_detection/resnet/test/\n",
        "cp /databricks/driver/object_detection/resnet/test/pet_faces_train.record-00000-of-00010 /databricks/driver/object_detection/resnet/data/\n",
        "cp /databricks/driver/object_detection/resnet/test/pet_faces_val.record-00000-of-00010 /databricks/driver/object_detection/resnet/data/\n",
        "ls /databricks/driver/object_detection/resnet/data/"
      ]
    },
    {
      "cell_type": "markdown",
      "metadata": {},
      "source": [
        "# Get model and create job config"
      ]
    },
    {
      "cell_type": "code",
      "execution_count": null,
      "metadata": {},
      "outputs": [],
      "source": [
        "%sh\n",
        "set -x\n",
        "model=faster_rcnn_resnet50_v1_640x640_coco17_tpu-8\n",
        "test -e $model.tar.gz || curl -fsO http://download.tensorflow.org/models/object_detection/tf2/20200711/$model.tar.gz\n",
        "tar -xvf $model.tar.gz --no-same-owner \n",
        "cp $model/checkpoint/* /databricks/driver/object_detection/resnet/data\n",
        "ls /databricks/driver/object_detection/resnet/data | grep ck"
      ]
    },
    {
      "cell_type": "code",
      "execution_count": null,
      "metadata": {},
      "outputs": [],
      "source": [
        "%sh\n",
        "curl -o object_detection.config https://raw.githubusercontent.com/Srigandhan/TF/main/object_detection.config\n",
        "cp object_detection.config /databricks/driver/object_detection/resnet/object_detection.config\n",
        "cat /databricks/driver/object_detection/resnet/object_detection.config"
      ]
    },
    {
      "cell_type": "markdown",
      "metadata": {},
      "source": [
        "# Config and run job\n",
        "Run the following cell and open the View TensorBoard link to monitor progress."
      ]
    },
    {
      "cell_type": "code",
      "execution_count": null,
      "metadata": {},
      "outputs": [],
      "source": [
        "%sh\n",
        "curl -o model_main_tf2_new.py https://raw.githubusercontent.com/Srigandhan/TF/main/model_main_tf2_new.py\n",
        "cp model_main_tf2_new.py models/research/object_detection/model_main_tf2.py\n",
        "cat models/research/object_detection/model_main_tf2.py"
      ]
    },
    {
      "cell_type": "code",
      "execution_count": null,
      "metadata": {},
      "outputs": [],
      "source": [
        "%sh\n",
        "cd /databricks/driver/models/research/\n",
        "python object_detection/model_main_tf2.py --logtostderr --model_dir=/databricks/driver/object_detection/resnet/models --pipeline_config_path=/databricks/driver/object_detection/resnet/object_detection.config"
      ]
    },
    {
      "cell_type": "code",
      "execution_count": null,
      "metadata": {},
      "outputs": [],
      "source": [
        "token = dbutils.notebook.entry_point.getDbutils().notebook().getContext().apiToken().get()\n",
        "print(token)\n",
        "dbutils.fs.ls(\"file:///root/\")\n",
        "#dbutils.fs.put(\"file:///root/.databrickscfg\",\"[DEFAULT]\\nhost=https://community.cloud.databricks.com\\ntoken = \"+token,overwrite=True)"
      ]
    }
  ],
  "metadata": {
    "kernelspec": {
      "display_name": "Python 3",
      "language": "python",
      "name": "python3"
    },
    "language_info": {
      "codemirror_mode": {
        "name": "ipython",
        "version": 3
      },
      "file_extension": ".py",
      "mimetype": "text/x-python",
      "name": "python",
      "nbconvert_exporter": "python",
      "pygments_lexer": "ipython3",
      "version": "3.9.5"
    }
  },
  "nbformat": 4,
  "nbformat_minor": 0
}
